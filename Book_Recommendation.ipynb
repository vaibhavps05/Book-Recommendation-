{
  "nbformat": 4,
  "nbformat_minor": 0,
  "metadata": {
    "colab": {
      "provenance": [],
      "authorship_tag": "ABX9TyPOmKDwnHBqCX7NtPJnB7lS",
      "include_colab_link": true
    },
    "kernelspec": {
      "name": "python3",
      "display_name": "Python 3"
    },
    "language_info": {
      "name": "python"
    }
  },
  "cells": [
    {
      "cell_type": "markdown",
      "metadata": {
        "id": "view-in-github",
        "colab_type": "text"
      },
      "source": [
        "<a href=\"https://colab.research.google.com/github/vaibhavps05/Book-Recommendation-/blob/main/Book_Recommendation.ipynb\" target=\"_parent\"><img src=\"https://colab.research.google.com/assets/colab-badge.svg\" alt=\"Open In Colab\"/></a>"
      ]
    },
    {
      "cell_type": "code",
      "source": [
        "import warnings\n",
        "warnings.simplefilter('ignore')\n",
        "\n",
        "!pip install --upgrade pandas\n",
        "\n",
        "import numpy as np\n",
        "import pandas as pd"
      ],
      "metadata": {
        "colab": {
          "base_uri": "https://localhost:8080/"
        },
        "id": "adBphUlc1AEo",
        "outputId": "71492c7b-c282-46b3-a5f4-747a1d1f6957"
      },
      "execution_count": 18,
      "outputs": [
        {
          "output_type": "stream",
          "name": "stdout",
          "text": [
            "Requirement already satisfied: pandas in /usr/local/lib/python3.10/dist-packages (2.2.2)\n",
            "Requirement already satisfied: numpy>=1.22.4 in /usr/local/lib/python3.10/dist-packages (from pandas) (1.25.2)\n",
            "Requirement already satisfied: python-dateutil>=2.8.2 in /usr/local/lib/python3.10/dist-packages (from pandas) (2.8.2)\n",
            "Requirement already satisfied: pytz>=2020.1 in /usr/local/lib/python3.10/dist-packages (from pandas) (2023.4)\n",
            "Requirement already satisfied: tzdata>=2022.7 in /usr/local/lib/python3.10/dist-packages (from pandas) (2024.1)\n",
            "Requirement already satisfied: six>=1.5 in /usr/local/lib/python3.10/dist-packages (from python-dateutil>=2.8.2->pandas) (1.16.0)\n"
          ]
        }
      ]
    },
    {
      "cell_type": "code",
      "source": [
        "books = pd.read_csv('/content/BX-Books.csv', sep=\";\", on_bad_lines='skip', encoding='latin-1')\n",
        "users = pd.read_csv('/content/BX-Users.csv', sep=\";\", on_bad_lines='skip', encoding='latin-1')\n",
        "ratings = pd.read_csv('/content/BX-Book-Ratings.csv', sep=\";\", on_bad_lines='skip', encoding='latin-1')"
      ],
      "metadata": {
        "id": "OT63Eb5I1DRD"
      },
      "execution_count": 19,
      "outputs": []
    },
    {
      "cell_type": "code",
      "source": [
        "print(\"Books Dataset: \",books.shape)\n",
        "print(\"Users Dataset: \",users.shape)\n",
        "print(\"Ratings Dataset: \",ratings.shape)"
      ],
      "metadata": {
        "colab": {
          "base_uri": "https://localhost:8080/"
        },
        "id": "4eVVLcet1EsL",
        "outputId": "0fbe10db-996b-44cb-c5e2-2760e530fa9c"
      },
      "execution_count": 20,
      "outputs": [
        {
          "output_type": "stream",
          "name": "stdout",
          "text": [
            "Books Dataset:  (271360, 8)\n",
            "Users Dataset:  (278858, 3)\n",
            "Ratings Dataset:  (1149780, 3)\n"
          ]
        }
      ]
    },
    {
      "cell_type": "code",
      "source": [
        "print(\"Books Dataset: \",books.columns)\n",
        "print(\"\\nUsers Dataset: \",users.columns)\n",
        "print(\"\\nRatings Dataset: \",ratings.columns)"
      ],
      "metadata": {
        "colab": {
          "base_uri": "https://localhost:8080/"
        },
        "id": "cTf42Frg1Ze6",
        "outputId": "7b95b8db-cbf0-470a-86e1-77b2782f8f6f"
      },
      "execution_count": 21,
      "outputs": [
        {
          "output_type": "stream",
          "name": "stdout",
          "text": [
            "Books Dataset:  Index(['ISBN', 'Book-Title', 'Book-Author', 'Year-Of-Publication', 'Publisher',\n",
            "       'Image-URL-S', 'Image-URL-M', 'Image-URL-L'],\n",
            "      dtype='object')\n",
            "\n",
            "Users Dataset:  Index(['User-ID', 'Location', 'Age'], dtype='object')\n",
            "\n",
            "Ratings Dataset:  Index(['User-ID', 'ISBN', 'Book-Rating'], dtype='object')\n"
          ]
        }
      ]
    },
    {
      "cell_type": "code",
      "source": [
        "books.rename(columns={\"Book-Title\":'Title',\n",
        "                      'Book-Author':'Author',\n",
        "                     \"Year-Of-Publication\":'Year',\n",
        "                     \"Image-URL-L\":\"URL\"},inplace=True)\n",
        "\n",
        "ratings.rename(columns={\"Book-Rating\": \"Ratings\"}, inplace=True)"
      ],
      "metadata": {
        "id": "B829UXxd1dvR"
      },
      "execution_count": 22,
      "outputs": []
    },
    {
      "cell_type": "code",
      "source": [
        "print(books.head(2))"
      ],
      "metadata": {
        "colab": {
          "base_uri": "https://localhost:8080/"
        },
        "id": "nTgXvd1n1gWQ",
        "outputId": "89353e1d-b692-4ee2-aeba-5fa6f28678cf"
      },
      "execution_count": 51,
      "outputs": [
        {
          "output_type": "stream",
          "name": "stdout",
          "text": [
            "         ISBN                Title                Author  Year  \\\n",
            "0  0195153448  Classical Mythology    Mark P. O. Morford  2002   \n",
            "1  0002005018         Clara Callan  Richard Bruce Wright  2001   \n",
            "\n",
            "                 Publisher                                                URL  \n",
            "0  Oxford University Press  http://images.amazon.com/images/P/0195153448.0...  \n",
            "1    HarperFlamingo Canada  http://images.amazon.com/images/P/0002005018.0...  \n"
          ]
        }
      ]
    },
    {
      "cell_type": "code",
      "source": [
        "print(users.head(2))"
      ],
      "metadata": {
        "colab": {
          "base_uri": "https://localhost:8080/"
        },
        "id": "aXoAJVcQ1k75",
        "outputId": "1dff0eaf-8fab-414a-b58a-b810b11906a7"
      },
      "execution_count": 52,
      "outputs": [
        {
          "output_type": "stream",
          "name": "stdout",
          "text": [
            "   User-ID                   Location   Age\n",
            "0        1         nyc, new york, usa   NaN\n",
            "1        2  stockton, california, usa  18.0\n"
          ]
        }
      ]
    },
    {
      "cell_type": "code",
      "source": [
        "print(ratings.head(2))"
      ],
      "metadata": {
        "colab": {
          "base_uri": "https://localhost:8080/"
        },
        "id": "xfmXHEOD1muo",
        "outputId": "c02b6df7-c3b1-49f9-fa09-48048929d721"
      },
      "execution_count": 53,
      "outputs": [
        {
          "output_type": "stream",
          "name": "stdout",
          "text": [
            "      User-ID        ISBN  Ratings\n",
            "1456   277427  002542730X       10\n",
            "1457   277427  0026217457        0\n"
          ]
        }
      ]
    },
    {
      "cell_type": "code",
      "source": [
        "books = books[['ISBN','Title', 'Author', 'Year', 'Publisher','URL']]"
      ],
      "metadata": {
        "id": "LQOPyJxG1pKD"
      },
      "execution_count": 26,
      "outputs": []
    },
    {
      "cell_type": "code",
      "source": [
        "ratings['User-ID'].value_counts()"
      ],
      "metadata": {
        "colab": {
          "base_uri": "https://localhost:8080/"
        },
        "id": "VYv4btkB1siZ",
        "outputId": "574e8636-fc65-4d8d-fda4-f577e42df7f3"
      },
      "execution_count": 28,
      "outputs": [
        {
          "output_type": "execute_result",
          "data": {
            "text/plain": [
              "User-ID\n",
              "11676     13602\n",
              "198711     7550\n",
              "153662     6109\n",
              "98391      5891\n",
              "35859      5850\n",
              "          ...  \n",
              "116180        1\n",
              "116166        1\n",
              "116154        1\n",
              "116137        1\n",
              "276723        1\n",
              "Name: count, Length: 105283, dtype: int64"
            ]
          },
          "metadata": {},
          "execution_count": 28
        }
      ]
    },
    {
      "cell_type": "code",
      "source": [
        "x = ratings['User-ID'].value_counts() > 200\n",
        "x[x].shape"
      ],
      "metadata": {
        "colab": {
          "base_uri": "https://localhost:8080/"
        },
        "id": "y6Vc3BLJ1uEh",
        "outputId": "8d02b103-3da7-45a5-eb3f-2663ce096f06"
      },
      "execution_count": 29,
      "outputs": [
        {
          "output_type": "execute_result",
          "data": {
            "text/plain": [
              "(899,)"
            ]
          },
          "metadata": {},
          "execution_count": 29
        }
      ]
    },
    {
      "cell_type": "code",
      "source": [
        "y= x[x].index\n",
        "ratings = ratings[ratings['User-ID'].isin(y)]\n",
        "ratings.shape"
      ],
      "metadata": {
        "colab": {
          "base_uri": "https://localhost:8080/"
        },
        "id": "rnMyBbHx1wsR",
        "outputId": "6d1134e2-19d3-4d10-b280-301cd49862ce"
      },
      "execution_count": 30,
      "outputs": [
        {
          "output_type": "execute_result",
          "data": {
            "text/plain": [
              "(526356, 3)"
            ]
          },
          "metadata": {},
          "execution_count": 30
        }
      ]
    },
    {
      "cell_type": "code",
      "source": [
        "ratings_with_books = ratings.merge(books, on='ISBN')\n",
        "print(ratings_with_books.head())"
      ],
      "metadata": {
        "colab": {
          "base_uri": "https://localhost:8080/"
        },
        "id": "VRFEKk-T1yuR",
        "outputId": "6cbbe97a-b788-4814-e5e1-de241bdd9a49"
      },
      "execution_count": 55,
      "outputs": [
        {
          "output_type": "stream",
          "name": "stdout",
          "text": [
            "   User-ID        ISBN  Ratings  \\\n",
            "0   277427  002542730X       10   \n",
            "1     3363  002542730X        0   \n",
            "2    11676  002542730X        6   \n",
            "3    12538  002542730X       10   \n",
            "4    13552  002542730X        0   \n",
            "\n",
            "                                               Title             Author  Year  \\\n",
            "0  Politically Correct Bedtime Stories: Modern Ta...  James Finn Garner  1994   \n",
            "1  Politically Correct Bedtime Stories: Modern Ta...  James Finn Garner  1994   \n",
            "2  Politically Correct Bedtime Stories: Modern Ta...  James Finn Garner  1994   \n",
            "3  Politically Correct Bedtime Stories: Modern Ta...  James Finn Garner  1994   \n",
            "4  Politically Correct Bedtime Stories: Modern Ta...  James Finn Garner  1994   \n",
            "\n",
            "                   Publisher  \\\n",
            "0  John Wiley &amp; Sons Inc   \n",
            "1  John Wiley &amp; Sons Inc   \n",
            "2  John Wiley &amp; Sons Inc   \n",
            "3  John Wiley &amp; Sons Inc   \n",
            "4  John Wiley &amp; Sons Inc   \n",
            "\n",
            "                                                 URL  \n",
            "0  http://images.amazon.com/images/P/002542730X.0...  \n",
            "1  http://images.amazon.com/images/P/002542730X.0...  \n",
            "2  http://images.amazon.com/images/P/002542730X.0...  \n",
            "3  http://images.amazon.com/images/P/002542730X.0...  \n",
            "4  http://images.amazon.com/images/P/002542730X.0...  \n"
          ]
        }
      ]
    },
    {
      "cell_type": "code",
      "source": [
        "ratings_with_books.shape"
      ],
      "metadata": {
        "colab": {
          "base_uri": "https://localhost:8080/"
        },
        "id": "Jyqm1oHZ11Iw",
        "outputId": "7dd9a083-2f1d-492a-94b7-b10592a1074b"
      },
      "execution_count": 32,
      "outputs": [
        {
          "output_type": "execute_result",
          "data": {
            "text/plain": [
              "(487671, 8)"
            ]
          },
          "metadata": {},
          "execution_count": 32
        }
      ]
    },
    {
      "cell_type": "code",
      "source": [
        "number_rating = ratings_with_books.groupby('Title')['Ratings'].count().reset_index()\n",
        "print(number_rating.head())"
      ],
      "metadata": {
        "colab": {
          "base_uri": "https://localhost:8080/"
        },
        "id": "PZXHCCAQ12rI",
        "outputId": "e55187c0-a814-48ca-a3f7-52f06842cad3"
      },
      "execution_count": 57,
      "outputs": [
        {
          "output_type": "stream",
          "name": "stdout",
          "text": [
            "                                               Title  Ratings\n",
            "0   A Light in the Storm: The Civil War Diary of ...        2\n",
            "1                              Always Have Popsicles        1\n",
            "2               Apple Magic (The Collector's series)        1\n",
            "3   Beyond IBM: Leadership Marketing and Finance ...        1\n",
            "4   Clifford Visita El Hospital (Clifford El Gran...        1\n"
          ]
        }
      ]
    },
    {
      "cell_type": "code",
      "source": [
        "number_rating.rename(columns={'Ratings':'No. of Ratings'},inplace=True)\n",
        "print(number_rating.head())"
      ],
      "metadata": {
        "colab": {
          "base_uri": "https://localhost:8080/"
        },
        "id": "SJhZ0nGv15ao",
        "outputId": "53617972-940a-4a41-875a-8236875887ff"
      },
      "execution_count": 56,
      "outputs": [
        {
          "output_type": "stream",
          "name": "stdout",
          "text": [
            "                                               Title  No. of Ratings\n",
            "0   A Light in the Storm: The Civil War Diary of ...               2\n",
            "1                              Always Have Popsicles               1\n",
            "2               Apple Magic (The Collector's series)               1\n",
            "3   Beyond IBM: Leadership Marketing and Finance ...               1\n",
            "4   Clifford Visita El Hospital (Clifford El Gran...               1\n"
          ]
        }
      ]
    },
    {
      "cell_type": "code",
      "source": [
        "final_rating = ratings_with_books.merge(number_rating, on='Title')\n",
        "print(final_rating.head())"
      ],
      "metadata": {
        "colab": {
          "base_uri": "https://localhost:8080/"
        },
        "id": "ShIEmAhQ17Yx",
        "outputId": "3e20741e-31af-49f7-f70d-3a13dfc37a9b"
      },
      "execution_count": 58,
      "outputs": [
        {
          "output_type": "stream",
          "name": "stdout",
          "text": [
            "   User-ID        ISBN  Ratings_x  \\\n",
            "0   277427  002542730X         10   \n",
            "1     3363  002542730X          0   \n",
            "2    11676  002542730X          6   \n",
            "3    12538  002542730X         10   \n",
            "4    13552  002542730X          0   \n",
            "\n",
            "                                               Title             Author  Year  \\\n",
            "0  Politically Correct Bedtime Stories: Modern Ta...  James Finn Garner  1994   \n",
            "1  Politically Correct Bedtime Stories: Modern Ta...  James Finn Garner  1994   \n",
            "2  Politically Correct Bedtime Stories: Modern Ta...  James Finn Garner  1994   \n",
            "3  Politically Correct Bedtime Stories: Modern Ta...  James Finn Garner  1994   \n",
            "4  Politically Correct Bedtime Stories: Modern Ta...  James Finn Garner  1994   \n",
            "\n",
            "                   Publisher  \\\n",
            "0  John Wiley &amp; Sons Inc   \n",
            "1  John Wiley &amp; Sons Inc   \n",
            "2  John Wiley &amp; Sons Inc   \n",
            "3  John Wiley &amp; Sons Inc   \n",
            "4  John Wiley &amp; Sons Inc   \n",
            "\n",
            "                                                 URL  Ratings_y  \n",
            "0  http://images.amazon.com/images/P/002542730X.0...         82  \n",
            "1  http://images.amazon.com/images/P/002542730X.0...         82  \n",
            "2  http://images.amazon.com/images/P/002542730X.0...         82  \n",
            "3  http://images.amazon.com/images/P/002542730X.0...         82  \n",
            "4  http://images.amazon.com/images/P/002542730X.0...         82  \n"
          ]
        }
      ]
    },
    {
      "cell_type": "code",
      "source": [
        "final_rating.shape\n"
      ],
      "metadata": {
        "colab": {
          "base_uri": "https://localhost:8080/"
        },
        "id": "VNcfk-Fv19h6",
        "outputId": "c9890903-575a-4804-837e-f4415e29bc6e"
      },
      "execution_count": 36,
      "outputs": [
        {
          "output_type": "execute_result",
          "data": {
            "text/plain": [
              "(487671, 9)"
            ]
          },
          "metadata": {},
          "execution_count": 36
        }
      ]
    },
    {
      "cell_type": "code",
      "source": [
        "final_rating.shape"
      ],
      "metadata": {
        "colab": {
          "base_uri": "https://localhost:8080/"
        },
        "id": "ReDZ_qLb2BfA",
        "outputId": "ef2b3a15-5c0f-482e-e606-e11aa7d052a5"
      },
      "execution_count": 38,
      "outputs": [
        {
          "output_type": "execute_result",
          "data": {
            "text/plain": [
              "(61853, 9)"
            ]
          },
          "metadata": {},
          "execution_count": 38
        }
      ]
    },
    {
      "cell_type": "code",
      "source": [
        "final_rating.drop_duplicates(['User-ID','Title'],inplace=True)\n",
        "final_rating.shape"
      ],
      "metadata": {
        "colab": {
          "base_uri": "https://localhost:8080/"
        },
        "id": "1bV0VZyv2CwR",
        "outputId": "2a0456e6-f4b4-418c-d800-a93b299cb212"
      },
      "execution_count": 39,
      "outputs": [
        {
          "output_type": "execute_result",
          "data": {
            "text/plain": [
              "(59850, 9)"
            ]
          },
          "metadata": {},
          "execution_count": 39
        }
      ]
    },
    {
      "cell_type": "code",
      "source": [
        "book_pivot.shape"
      ],
      "metadata": {
        "colab": {
          "base_uri": "https://localhost:8080/"
        },
        "id": "bUv5HcfO2GMT",
        "outputId": "3962499c-92b1-41d2-a01a-6dbbcd25a7e6"
      },
      "execution_count": 41,
      "outputs": [
        {
          "output_type": "execute_result",
          "data": {
            "text/plain": [
              "(742, 888)"
            ]
          },
          "metadata": {},
          "execution_count": 41
        }
      ]
    },
    {
      "cell_type": "code",
      "source": [
        "book_pivot.fillna(0, inplace=True)\n",
        "print(book_pivot)"
      ],
      "metadata": {
        "colab": {
          "base_uri": "https://localhost:8080/"
        },
        "id": "XoRBHfNg2HeZ",
        "outputId": "755e044b-a347-4b4b-df3e-c2f38b6fe150"
      },
      "execution_count": 64,
      "outputs": [
        {
          "output_type": "stream",
          "name": "stdout",
          "text": [
            "User-ID                                             254     2276    2766    \\\n",
            "Title                                                                        \n",
            "1984                                                   9.0     0.0     0.0   \n",
            "1st to Die: A Novel                                    0.0     0.0     0.0   \n",
            "2nd Chance                                             0.0    10.0     0.0   \n",
            "4 Blondes                                              0.0     0.0     0.0   \n",
            "84 Charing Cross Road                                  0.0     0.0     0.0   \n",
            "...                                                    ...     ...     ...   \n",
            "Year of Wonders                                        0.0     0.0     0.0   \n",
            "You Belong To Me                                       0.0     0.0     0.0   \n",
            "Zen and the Art of Motorcycle Maintenance: An I...     0.0     0.0     0.0   \n",
            "Zoya                                                   0.0     0.0     0.0   \n",
            "\\O\\\" Is for Outlaw\"                                    0.0     0.0     0.0   \n",
            "\n",
            "User-ID                                             2977    3363    3757    \\\n",
            "Title                                                                        \n",
            "1984                                                   0.0     0.0     0.0   \n",
            "1st to Die: A Novel                                    0.0     0.0     0.0   \n",
            "2nd Chance                                             0.0     0.0     0.0   \n",
            "4 Blondes                                              0.0     0.0     0.0   \n",
            "84 Charing Cross Road                                  0.0     0.0     0.0   \n",
            "...                                                    ...     ...     ...   \n",
            "Year of Wonders                                        7.0     0.0     0.0   \n",
            "You Belong To Me                                       0.0     0.0     0.0   \n",
            "Zen and the Art of Motorcycle Maintenance: An I...     0.0     0.0     0.0   \n",
            "Zoya                                                   0.0     0.0     0.0   \n",
            "\\O\\\" Is for Outlaw\"                                    0.0     0.0     0.0   \n",
            "\n",
            "User-ID                                             4017    4385    6242    \\\n",
            "Title                                                                        \n",
            "1984                                                   0.0     0.0     0.0   \n",
            "1st to Die: A Novel                                    0.0     0.0     0.0   \n",
            "2nd Chance                                             0.0     0.0     0.0   \n",
            "4 Blondes                                              0.0     0.0     0.0   \n",
            "84 Charing Cross Road                                  0.0     0.0     0.0   \n",
            "...                                                    ...     ...     ...   \n",
            "Year of Wonders                                        0.0     0.0     7.0   \n",
            "You Belong To Me                                       0.0     0.0     0.0   \n",
            "Zen and the Art of Motorcycle Maintenance: An I...     0.0     0.0     0.0   \n",
            "Zoya                                                   0.0     0.0     0.0   \n",
            "\\O\\\" Is for Outlaw\"                                    0.0     0.0     0.0   \n",
            "\n",
            "User-ID                                             6251    ...  274004  \\\n",
            "Title                                                       ...           \n",
            "1984                                                   0.0  ...     0.0   \n",
            "1st to Die: A Novel                                    0.0  ...     0.0   \n",
            "2nd Chance                                             0.0  ...     0.0   \n",
            "4 Blondes                                              0.0  ...     0.0   \n",
            "84 Charing Cross Road                                  0.0  ...     0.0   \n",
            "...                                                    ...  ...     ...   \n",
            "Year of Wonders                                        0.0  ...     0.0   \n",
            "You Belong To Me                                       0.0  ...     0.0   \n",
            "Zen and the Art of Motorcycle Maintenance: An I...     0.0  ...     0.0   \n",
            "Zoya                                                   0.0  ...     0.0   \n",
            "\\O\\\" Is for Outlaw\"                                    0.0  ...     0.0   \n",
            "\n",
            "User-ID                                             274061  274301  274308  \\\n",
            "Title                                                                        \n",
            "1984                                                   0.0     0.0     0.0   \n",
            "1st to Die: A Novel                                    0.0     0.0     0.0   \n",
            "2nd Chance                                             0.0     0.0     0.0   \n",
            "4 Blondes                                              0.0     0.0     0.0   \n",
            "84 Charing Cross Road                                  0.0     0.0     0.0   \n",
            "...                                                    ...     ...     ...   \n",
            "Year of Wonders                                        0.0     0.0     0.0   \n",
            "You Belong To Me                                       0.0     0.0     0.0   \n",
            "Zen and the Art of Motorcycle Maintenance: An I...     0.0     0.0     0.0   \n",
            "Zoya                                                   0.0     0.0     0.0   \n",
            "\\O\\\" Is for Outlaw\"                                    0.0     8.0     0.0   \n",
            "\n",
            "User-ID                                             274808  275970  277427  \\\n",
            "Title                                                                        \n",
            "1984                                                   0.0     0.0     0.0   \n",
            "1st to Die: A Novel                                    0.0     0.0     0.0   \n",
            "2nd Chance                                             0.0     0.0     0.0   \n",
            "4 Blondes                                              0.0     0.0     0.0   \n",
            "84 Charing Cross Road                                  0.0    10.0     0.0   \n",
            "...                                                    ...     ...     ...   \n",
            "Year of Wonders                                        0.0     0.0     0.0   \n",
            "You Belong To Me                                       0.0     0.0     0.0   \n",
            "Zen and the Art of Motorcycle Maintenance: An I...     0.0     0.0     0.0   \n",
            "Zoya                                                   0.0     0.0     0.0   \n",
            "\\O\\\" Is for Outlaw\"                                    0.0     0.0     0.0   \n",
            "\n",
            "User-ID                                             277478  277639  278418  \n",
            "Title                                                                       \n",
            "1984                                                   0.0     0.0     0.0  \n",
            "1st to Die: A Novel                                    0.0     0.0     0.0  \n",
            "2nd Chance                                             0.0     0.0     0.0  \n",
            "4 Blondes                                              0.0     0.0     0.0  \n",
            "84 Charing Cross Road                                  0.0     0.0     0.0  \n",
            "...                                                    ...     ...     ...  \n",
            "Year of Wonders                                        0.0     0.0     0.0  \n",
            "You Belong To Me                                       0.0     0.0     0.0  \n",
            "Zen and the Art of Motorcycle Maintenance: An I...     0.0     0.0     0.0  \n",
            "Zoya                                                   0.0     0.0     0.0  \n",
            "\\O\\\" Is for Outlaw\"                                    0.0     0.0     0.0  \n",
            "\n",
            "[742 rows x 888 columns]\n"
          ]
        }
      ]
    },
    {
      "cell_type": "code",
      "source": [
        "from scipy.sparse import csr_matrix\n",
        "book_sparse = csr_matrix(book_pivot)\n",
        "\n",
        "book_names = book_pivot.index\n",
        "from sklearn.neighbors import NearestNeighbors\n",
        "model = NearestNeighbors(algorithm= 'brute')\n",
        "model.fit(book_sparse)"
      ],
      "metadata": {
        "colab": {
          "base_uri": "https://localhost:8080/",
          "height": 74
        },
        "id": "wqbBh25S2Ldk",
        "outputId": "eb4f0a3e-bcbb-4fda-fc0e-045c7c3d9e7e"
      },
      "execution_count": 43,
      "outputs": [
        {
          "output_type": "execute_result",
          "data": {
            "text/plain": [
              "NearestNeighbors(algorithm='brute')"
            ],
            "text/html": [
              "<style>#sk-container-id-1 {color: black;background-color: white;}#sk-container-id-1 pre{padding: 0;}#sk-container-id-1 div.sk-toggleable {background-color: white;}#sk-container-id-1 label.sk-toggleable__label {cursor: pointer;display: block;width: 100%;margin-bottom: 0;padding: 0.3em;box-sizing: border-box;text-align: center;}#sk-container-id-1 label.sk-toggleable__label-arrow:before {content: \"▸\";float: left;margin-right: 0.25em;color: #696969;}#sk-container-id-1 label.sk-toggleable__label-arrow:hover:before {color: black;}#sk-container-id-1 div.sk-estimator:hover label.sk-toggleable__label-arrow:before {color: black;}#sk-container-id-1 div.sk-toggleable__content {max-height: 0;max-width: 0;overflow: hidden;text-align: left;background-color: #f0f8ff;}#sk-container-id-1 div.sk-toggleable__content pre {margin: 0.2em;color: black;border-radius: 0.25em;background-color: #f0f8ff;}#sk-container-id-1 input.sk-toggleable__control:checked~div.sk-toggleable__content {max-height: 200px;max-width: 100%;overflow: auto;}#sk-container-id-1 input.sk-toggleable__control:checked~label.sk-toggleable__label-arrow:before {content: \"▾\";}#sk-container-id-1 div.sk-estimator input.sk-toggleable__control:checked~label.sk-toggleable__label {background-color: #d4ebff;}#sk-container-id-1 div.sk-label input.sk-toggleable__control:checked~label.sk-toggleable__label {background-color: #d4ebff;}#sk-container-id-1 input.sk-hidden--visually {border: 0;clip: rect(1px 1px 1px 1px);clip: rect(1px, 1px, 1px, 1px);height: 1px;margin: -1px;overflow: hidden;padding: 0;position: absolute;width: 1px;}#sk-container-id-1 div.sk-estimator {font-family: monospace;background-color: #f0f8ff;border: 1px dotted black;border-radius: 0.25em;box-sizing: border-box;margin-bottom: 0.5em;}#sk-container-id-1 div.sk-estimator:hover {background-color: #d4ebff;}#sk-container-id-1 div.sk-parallel-item::after {content: \"\";width: 100%;border-bottom: 1px solid gray;flex-grow: 1;}#sk-container-id-1 div.sk-label:hover label.sk-toggleable__label {background-color: #d4ebff;}#sk-container-id-1 div.sk-serial::before {content: \"\";position: absolute;border-left: 1px solid gray;box-sizing: border-box;top: 0;bottom: 0;left: 50%;z-index: 0;}#sk-container-id-1 div.sk-serial {display: flex;flex-direction: column;align-items: center;background-color: white;padding-right: 0.2em;padding-left: 0.2em;position: relative;}#sk-container-id-1 div.sk-item {position: relative;z-index: 1;}#sk-container-id-1 div.sk-parallel {display: flex;align-items: stretch;justify-content: center;background-color: white;position: relative;}#sk-container-id-1 div.sk-item::before, #sk-container-id-1 div.sk-parallel-item::before {content: \"\";position: absolute;border-left: 1px solid gray;box-sizing: border-box;top: 0;bottom: 0;left: 50%;z-index: -1;}#sk-container-id-1 div.sk-parallel-item {display: flex;flex-direction: column;z-index: 1;position: relative;background-color: white;}#sk-container-id-1 div.sk-parallel-item:first-child::after {align-self: flex-end;width: 50%;}#sk-container-id-1 div.sk-parallel-item:last-child::after {align-self: flex-start;width: 50%;}#sk-container-id-1 div.sk-parallel-item:only-child::after {width: 0;}#sk-container-id-1 div.sk-dashed-wrapped {border: 1px dashed gray;margin: 0 0.4em 0.5em 0.4em;box-sizing: border-box;padding-bottom: 0.4em;background-color: white;}#sk-container-id-1 div.sk-label label {font-family: monospace;font-weight: bold;display: inline-block;line-height: 1.2em;}#sk-container-id-1 div.sk-label-container {text-align: center;}#sk-container-id-1 div.sk-container {/* jupyter's `normalize.less` sets `[hidden] { display: none; }` but bootstrap.min.css set `[hidden] { display: none !important; }` so we also need the `!important` here to be able to override the default hidden behavior on the sphinx rendered scikit-learn.org. See: https://github.com/scikit-learn/scikit-learn/issues/21755 */display: inline-block !important;position: relative;}#sk-container-id-1 div.sk-text-repr-fallback {display: none;}</style><div id=\"sk-container-id-1\" class=\"sk-top-container\"><div class=\"sk-text-repr-fallback\"><pre>NearestNeighbors(algorithm=&#x27;brute&#x27;)</pre><b>In a Jupyter environment, please rerun this cell to show the HTML representation or trust the notebook. <br />On GitHub, the HTML representation is unable to render, please try loading this page with nbviewer.org.</b></div><div class=\"sk-container\" hidden><div class=\"sk-item\"><div class=\"sk-estimator sk-toggleable\"><input class=\"sk-toggleable__control sk-hidden--visually\" id=\"sk-estimator-id-1\" type=\"checkbox\" checked><label for=\"sk-estimator-id-1\" class=\"sk-toggleable__label sk-toggleable__label-arrow\">NearestNeighbors</label><div class=\"sk-toggleable__content\"><pre>NearestNeighbors(algorithm=&#x27;brute&#x27;)</pre></div></div></div></div></div>"
            ]
          },
          "metadata": {},
          "execution_count": 43
        }
      ]
    },
    {
      "cell_type": "code",
      "source": [
        "distance, suggestion = model.kneighbors(book_pivot.iloc[237,:].values.reshape(1,-1), n_neighbors=6 )\n",
        "distance"
      ],
      "metadata": {
        "colab": {
          "base_uri": "https://localhost:8080/"
        },
        "id": "QxlCfuaA2M7x",
        "outputId": "b46bd10e-74b6-48de-d2bc-62c8f73013cc"
      },
      "execution_count": 44,
      "outputs": [
        {
          "output_type": "execute_result",
          "data": {
            "text/plain": [
              "array([[ 0.        , 68.78953409, 69.5413546 , 72.64296249, 76.83098333,\n",
              "        77.28518616]])"
            ]
          },
          "metadata": {},
          "execution_count": 44
        }
      ]
    },
    {
      "cell_type": "code",
      "source": [
        "suggestion"
      ],
      "metadata": {
        "colab": {
          "base_uri": "https://localhost:8080/"
        },
        "id": "2ULa6-AC2OUU",
        "outputId": "9ab9654b-7a81-4767-9830-0aae50d3381b"
      },
      "execution_count": 45,
      "outputs": [
        {
          "output_type": "execute_result",
          "data": {
            "text/plain": [
              "array([[237, 240, 238, 241, 184, 536]])"
            ]
          },
          "metadata": {},
          "execution_count": 45
        }
      ]
    },
    {
      "cell_type": "code",
      "source": [
        "book_pivot.iloc[241,:]"
      ],
      "metadata": {
        "colab": {
          "base_uri": "https://localhost:8080/"
        },
        "id": "zH-jBKAJ2QEz",
        "outputId": "b3980a12-4280-48bf-b0eb-6b509bfbfdd1"
      },
      "execution_count": 46,
      "outputs": [
        {
          "output_type": "execute_result",
          "data": {
            "text/plain": [
              "User-ID\n",
              "254       9.0\n",
              "2276      0.0\n",
              "2766      0.0\n",
              "2977      0.0\n",
              "3363      0.0\n",
              "         ... \n",
              "275970    9.0\n",
              "277427    0.0\n",
              "277478    0.0\n",
              "277639    0.0\n",
              "278418    0.0\n",
              "Name: Harry Potter and the Sorcerer's Stone (Book 1), Length: 888, dtype: float64"
            ]
          },
          "metadata": {},
          "execution_count": 46
        }
      ]
    },
    {
      "cell_type": "code",
      "source": [
        "for i in range(len(suggestion)):\n",
        "    print(book_pivot.index[suggestion[i]])"
      ],
      "metadata": {
        "colab": {
          "base_uri": "https://localhost:8080/"
        },
        "id": "OuM4lbE12RjB",
        "outputId": "e3839911-6f05-4971-a8c9-b4406bb54b83"
      },
      "execution_count": 47,
      "outputs": [
        {
          "output_type": "stream",
          "name": "stdout",
          "text": [
            "Index(['Harry Potter and the Chamber of Secrets (Book 2)',\n",
            "       'Harry Potter and the Prisoner of Azkaban (Book 3)',\n",
            "       'Harry Potter and the Goblet of Fire (Book 4)',\n",
            "       'Harry Potter and the Sorcerer's Stone (Book 1)', 'Exclusive',\n",
            "       'The Cradle Will Fall'],\n",
            "      dtype='object', name='Title')\n"
          ]
        }
      ]
    },
    {
      "cell_type": "code",
      "source": [
        "import pickle\n",
        "pickle.dump(model,open('Model.pkl','wb'))\n",
        "pickle.dump(book_names,open('Book_Names.pkl','wb'))\n",
        "pickle.dump(final_rating,open('Final_Rating.pkl','wb'))\n",
        "pickle.dump(book_pivot,open('Book_Pivot.pkl','wb'))"
      ],
      "metadata": {
        "id": "0g4xu-2L2UCI"
      },
      "execution_count": 48,
      "outputs": []
    },
    {
      "cell_type": "code",
      "source": [
        "def recommend_book(book_name):\n",
        "    book_id = np.where(book_pivot.index == book_name)[0][0]\n",
        "    distance, suggestion = model.kneighbors(book_pivot.iloc[book_id,:].values.reshape(1,-1), n_neighbors=6 )\n",
        "\n",
        "    for i in range(len(suggestion)):\n",
        "            books = book_pivot.index[suggestion[i]]\n",
        "            for j in books:\n",
        "                if j == book_name:\n",
        "                    print(f\"You searched '{book_name}'\\n\")\n",
        "                    print(\"The suggestion books are: \\n\")\n",
        "                else:\n",
        "                    print(j)\n",
        "book_name = \"Harry Potter and the Chamber of Secrets (Book 2)\"\n",
        "recommend_book(book_name)"
      ],
      "metadata": {
        "colab": {
          "base_uri": "https://localhost:8080/"
        },
        "id": "0qgpT1la2X8i",
        "outputId": "207f0a45-bae3-4c2d-a6d0-f9f524e960fd"
      },
      "execution_count": 49,
      "outputs": [
        {
          "output_type": "stream",
          "name": "stdout",
          "text": [
            "You searched 'Harry Potter and the Chamber of Secrets (Book 2)'\n",
            "\n",
            "The suggestion books are: \n",
            "\n",
            "Harry Potter and the Prisoner of Azkaban (Book 3)\n",
            "Harry Potter and the Goblet of Fire (Book 4)\n",
            "Harry Potter and the Sorcerer's Stone (Book 1)\n",
            "Exclusive\n",
            "The Cradle Will Fall\n"
          ]
        }
      ]
    }
  ]
}